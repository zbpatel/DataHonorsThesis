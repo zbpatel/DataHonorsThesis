{
 "cells": [
  {
   "cell_type": "markdown",
   "metadata": {},
   "source": [
    "## Sample Collection\n",
    "\n",
    "### Author:\n",
    "Zachary Patel (zpatel@berkeley.edu)\n",
    "\n",
    "### Date:\n",
    "April 2020\n",
    "\n",
    "### Repository:\n",
    "https://github.com/zbpatel/DataHonorsThesis\n",
    "\n"
   ]
  },
  {
   "cell_type": "markdown",
   "metadata": {},
   "source": [
    "### Description:\n",
    "This file contains the code used to collect performance profiles from a variety of basic testing networks generated with a given parameter set. \n",
    "\n",
    "TensorBoard output logs will be stored in tboard_logs/. (this can be changed by setting the value of log_base_dir)\n",
    "\n",
    "After running this code, logs must be opened in TensorBoard and profiling data should be exported to CSV / JSON format for further processing.\n",
    "\n",
    "\n",
    "Information about the TensorFlow Profiler can be found: https://www.tensorflow.org/tensorboard/tensorboard_profiling_keras\n"
   ]
  },
  {
   "cell_type": "markdown",
   "metadata": {},
   "source": [
    "### Updating TensorFlow and TensorBoard\n",
    "\n",
    "At the time of writing, the profiler is only included in the nightly releases of tensorflow\n",
    "(see the attached TensorFlow article for further reference)\n",
    "\n",
    "Note: uninstalling and updating the following packages in the next line can take a while"
   ]
  },
  {
   "cell_type": "code",
   "execution_count": null,
   "metadata": {
    "colab": {
     "base_uri": "https://localhost:8080/",
     "height": 127
    },
    "colab_type": "code",
    "collapsed": true,
    "id": "9z_VgRakt7qs",
    "outputId": "1c9fafe1-17f0-4432-c346-4ef3436e6b10"
   },
   "outputs": [],
   "source": [
    "#!pip uninstall -y -q tensorflow tensorboard\n",
    "#!pip uninstall -y -q tensorflow tensorboard\n",
    "#!pip install -U -q tf-nightly tb-nightly tensorboard_plugin_profile"
   ]
  },
  {
   "cell_type": "code",
   "execution_count": null,
   "metadata": {
    "colab": {
     "base_uri": "https://localhost:8080/",
     "height": 35
    },
    "colab_type": "code",
    "collapsed": true,
    "id": "vCETixHGpHu4",
    "outputId": "c1431b8e-2958-4904-e2cf-f1dc036801b5"
   },
   "outputs": [],
   "source": [
    "#from __future__ import absolute_import\n",
    "#from __future__ import division\n",
    "#from __future__ import print_function\n",
    "\n",
    "from datetime import datetime\n",
    "from packaging import version\n",
    "\n",
    "import os\n",
    "\n",
    "import tensorflow as tf\n",
    "import numpy as np\n",
    "print(\"TensorFlow version: \", tf.__version__)\n"
   ]
  },
  {
   "cell_type": "code",
   "execution_count": null,
   "metadata": {
    "colab": {
     "base_uri": "https://localhost:8080/",
     "height": 35
    },
    "colab_type": "code",
    "collapsed": true,
    "id": "hutM-XfVpIic",
    "outputId": "7fa805cb-6a7a-4aea-e17e-34dde2494b62"
   },
   "outputs": [],
   "source": [
    "device_name = tf.test.gpu_device_name()\n",
    "if not device_name:\n",
    "    raise SystemError('GPU device not found')\n",
    "print('Found GPU at: {}'.format(device_name))\n"
   ]
  },
  {
   "cell_type": "markdown",
   "metadata": {},
   "source": [
    "### Configure Log Storage Filepath"
   ]
  },
  {
   "cell_type": "code",
   "execution_count": null,
   "metadata": {
    "collapsed": true
   },
   "outputs": [],
   "source": [
    "log_base_dir = \"tboard_logs/\""
   ]
  },
  {
   "cell_type": "markdown",
   "metadata": {},
   "source": [
    "### Helper Functions"
   ]
  },
  {
   "cell_type": "code",
   "execution_count": null,
   "metadata": {
    "colab": {},
    "colab_type": "code",
    "collapsed": true,
    "id": "gMDyOpJfpNGo"
   },
   "outputs": [],
   "source": [
    "def construct_model(input_shape=(28, 28, 1), filters=1, kernel_size=[3, 3], strides=[1,1], padding=\"same\", \n",
    "                    classes=1):\n",
    "    \"\"\"\n",
    "    Constructs a simple network with specified parameters. \n",
    "    \n",
    "    This network has 2 layers: \n",
    "        1. Conv2D with the specified parameters\n",
    "        2. Dense to transform data to the proper number of class labels \n",
    "            (makes proper sizing of training data easier)\n",
    "    \n",
    "    Arguments:\n",
    "        input shape: list of length 3\n",
    "        filters: integer\n",
    "        kernel_size: list of length 2\n",
    "        strides: list of length 2\n",
    "        padding: string\n",
    "        classes: integer\n",
    "        \n",
    "    Returns:\n",
    "        model: a keras model\n",
    "    \"\"\"\n",
    "\n",
    "    model = tf.keras.models.Sequential([\n",
    "        tf.keras.layers.Conv2D(\n",
    "            input_shape = input_shape,\n",
    "            filters = filters,\n",
    "            kernel_size = kernel_size,\n",
    "            strides = strides,\n",
    "            padding = padding\n",
    "        ), \n",
    "        tf.keras.layers.Dense(classes, activation=\"sigmoid\")\n",
    "    ])\n",
    "\n",
    "    return model\n",
    "\n",
    "def compile_model(model):\n",
    "    \"\"\"\n",
    "    Compiles the specified model with some fixed parameters\n",
    "    \n",
    "    Arguments:\n",
    "        model: a keras model\n",
    "        \n",
    "    Returns:\n",
    "        None\n",
    "    \"\"\"\n",
    "    \n",
    "    # compiling the model\n",
    "    model.compile(\n",
    "        loss = \"mean_squared_error\",\n",
    "        optimizer = \"sgd\",\n",
    "        metrics = [\"accuracy\"]\n",
    "    )"
   ]
  },
  {
   "cell_type": "code",
   "execution_count": null,
   "metadata": {
    "colab": {},
    "colab_type": "code",
    "collapsed": true,
    "id": "xf7hyYPQpc-Q"
   },
   "outputs": [],
   "source": [
    "def configure_tboard_callback(log_loc):\n",
    "    \"\"\"\n",
    "    Configures a TensorBoard callback with the profiler enabled and set to profile during the second batch\n",
    "\n",
    "    Arguments:\n",
    "        log_loc: string\n",
    "\n",
    "    Returns:\n",
    "        tboard_callback: a configured TensorBoard callback\n",
    "    \"\"\"\n",
    "    # the most important setting here is profile batch (if this was left at 0, no profiling data would be recorded)\n",
    "    tboard_callback = tf.keras.callbacks.TensorBoard(\n",
    "        log_dir = log_loc,\n",
    "        histogram_freq = 0,\n",
    "        update_freq = \"epoch\",\n",
    "        profile_batch=2\n",
    "    )\n",
    "    \n",
    "    return tboard_callback\n",
    "    "
   ]
  },
  {
   "cell_type": "code",
   "execution_count": null,
   "metadata": {
    "colab": {},
    "colab_type": "code",
    "collapsed": true,
    "id": "UKBaRYnPSs-s"
   },
   "outputs": [],
   "source": [
    "def generate_dummy_data(samples, classes=2, h=28, w=28, c=1):\n",
    "    \"\"\"\n",
    "    Given a variety of size parameters, generates a set of dummy data to be used for training a network\n",
    "    \n",
    "    Arguments:\n",
    "        samples: number of random samples to generate\n",
    "        classes: number of distinct \"y\" classes to label sample points\n",
    "        h, w, c: dimensions of \n",
    "    \n",
    "    Returns:\n",
    "        dummy_data: (samples, h, w, c) np.array with values sampled from a uniform(0, 1) distribution\n",
    "        dummy_labels: (samples, 1) np.array of integer values\n",
    "    \"\"\"\n",
    "    \n",
    "    dummy_data = np.random.random((samples, h, w, c))\n",
    "    dummy_labels = np.random.randint(low=0, high=classes, size=(samples, 1))\n",
    "    \n",
    "    return dummy_data, dummy_labels\n"
   ]
  },
  {
   "cell_type": "markdown",
   "metadata": {},
   "source": [
    "### Data Collection"
   ]
  },
  {
   "cell_type": "markdown",
   "metadata": {},
   "source": [
    "#### Configuring the range of parameters to test\n",
    "\n",
    "For batch size, pick powers of 2 as well as 1 above and below each power of 2. Also pick 320, which is the number of TensorCores on the Turing T4 and might have interesting performance implications.\n",
    "\n",
    "For stride length, filter count and filter size, pick from a set of reasonable and commonly used parameters"
   ]
  },
  {
   "cell_type": "code",
   "execution_count": null,
   "metadata": {
    "collapsed": true
   },
   "outputs": [],
   "source": [
    "# configuring parameter ranges to test\n",
    "\n",
    "# batch size ranges are all powers of 2 from 2 to 256 and one above / below each point\n",
    "# also included are 320 +- 1 since there are 320 TensorCores on the Turing T4\n",
    "powers_of_2 = np.power(2, np.arange(1, 8))\n",
    "batch_size_range = np.concatenate((powers_of_2, powers_of_2 - 1, powers_of_2 + 1, np.array([319, 320, 321])))\n",
    "batch_size_range = np.sort(batch_size_range)\n",
    "print(\"Batch sizes: \", batch_size_range)\n",
    "\n",
    "stride_range = range(1, 4)\n",
    "print(\"Stride sizes: \", stride_range)\n",
    "\n",
    "filter_count_range = range(1, 11)\n",
    "print(\"Filter count range: \", filter_count_range)\n",
    "\n",
    "kernel_size_range = range(1, 5, 2)\n",
    "print(\"Kernel sizes: \", kernel_size_range)\n"
   ]
  },
  {
   "cell_type": "code",
   "execution_count": null,
   "metadata": {
    "colab": {
     "base_uri": "https://localhost:8080/",
     "height": 1000
    },
    "colab_type": "code",
    "collapsed": true,
    "id": "R-1-q0kNrqeg",
    "outputId": "cb1cf810-9d69-459a-9f66-dcdcf40c297c"
   },
   "outputs": [],
   "source": [
    "print(\"Beginning Testing\")\n",
    "bs_count = 0\n",
    "for batch_size in batch_size_range:\n",
    "    bs_count += 1\n",
    "    print(\"Testing batch size %d of %d\" %(bs_count, batch_size_range.shape[0]))\n",
    "    for stride_size in stride_range:\n",
    "        for kernel_size in kernel_size_range:\n",
    "            for filter_count in filter_count_range:\n",
    "                # constructing and compiling the model to sample\n",
    "                model = construct_model(\n",
    "                    filters=filter_count, \n",
    "                    strides=[stride_size, stride_size], \n",
    "                    kernel_size=[kernel_size, kernel_size]\n",
    "                )\n",
    "                \n",
    "                compile_model(model)\n",
    "\n",
    "                # regenerating the callback for each run is required to give each sample a different name\n",
    "                # this will produce a significant amount of warning text however\n",
    "            \n",
    "            \n",
    "                # Label format:\n",
    "                # timestamp-b(batch_size)s(stride_size)k(kernel_size)f(filter_count)\n",
    "                log_loc =  log_base_dir + datetime.now().strftime(\"%Y%m%d-%H%M\") + \"-b%ds%dk%df%d\" %(batch_size, stride_size, kernel_size, filter_count)\n",
    "                tboard_callback = configure_tboard_callback(log_loc)\n",
    "\n",
    "                \n",
    "                # generating dummy data:\n",
    "                # setting number of samples to batch_size * 2 since we set the profiler to sample on the second batch\n",
    "                dummy_data, dummy_labels = generate_dummy_data(batch_size * 2)  \n",
    "                \n",
    "                # fit model for dummy data and collect logs (results)\n",
    "                model.fit(\n",
    "                    x=dummy_data, \n",
    "                    y=dummy_labels, \n",
    "                    batch_size = batch_size, \n",
    "                    callbacks = [tboard_callback]\n",
    "                )"
   ]
  }
 ],
 "metadata": {
  "accelerator": "GPU",
  "colab": {
   "collapsed_sections": [],
   "name": "sampling test.ipynb",
   "provenance": []
  },
  "kernelspec": {
   "display_name": "Python 3",
   "language": "python",
   "name": "python3"
  },
  "language_info": {
   "codemirror_mode": {
    "name": "ipython",
    "version": 3
   },
   "file_extension": ".py",
   "mimetype": "text/x-python",
   "name": "python",
   "nbconvert_exporter": "python",
   "pygments_lexer": "ipython3",
   "version": "3.6.1"
  }
 },
 "nbformat": 4,
 "nbformat_minor": 1
}
