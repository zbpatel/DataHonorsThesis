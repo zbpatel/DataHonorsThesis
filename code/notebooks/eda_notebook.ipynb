{
 "cells": [
  {
   "cell_type": "raw",
   "metadata": {},
   "source": [
    "# TODOs:\n",
    "- Add DataTypes to columns of sample DataFrames\n",
    "- Update fname_shorthand_dict to include all possible parameter values\n"
   ]
  },
  {
   "cell_type": "markdown",
   "metadata": {},
   "source": [
    "### Zac Patel\n",
    "### Data H195B\n",
    "### 4/20/20\n",
    "\n",
    "## Data Presentation Example"
   ]
  },
  {
   "cell_type": "code",
   "execution_count": 1,
   "metadata": {
    "collapsed": true
   },
   "outputs": [],
   "source": [
    "import numpy as np\n",
    "import pandas as pd\n",
    "import matplotlib.pyplot as plt\n",
    "import os\n",
    "import re"
   ]
  },
  {
   "cell_type": "code",
   "execution_count": 2,
   "metadata": {
    "collapsed": true
   },
   "outputs": [],
   "source": [
    "# Utility Functions and Data \n",
    "\n",
    "# maps shorthands in sample filenames to \"english\" translations of what they stand for\n",
    "fname_shorthand_dict = {\n",
    "    \"s\": \"stride\",\n",
    "    \"f\": \"filter_count\"\n",
    "}\n",
    "\n",
    "\n",
    "def parse_sample_filename(fname):\n",
    "    \"\"\"\n",
    "    Parameters:\n",
    "        fname: string of a sample filename (no file extension)\n",
    "        \n",
    "    Returns:\n",
    "        params: characters in fname \n",
    "        vals: values corresponding to those characters\n",
    "        \n",
    "    This method is used for decoding the paramter values encoded in the filenames of samples\n",
    "    >>> parse_sample_filename(\"a1b2c10\")\n",
    "    >>> (['a', 'b', 'c'], ['1', '2', '10'])\n",
    "    \"\"\"\n",
    "    params = re.findall(\"[a-zA-Z]{1}\", fname)\n",
    "    \n",
    "    # translating param shorthand to \"English\" name\n",
    "    params = list(map(lambda x: fname_shorthand_dict[x], params))\n",
    "    \n",
    "    vals = re.findall(\"[0-9]+\", fname) \n",
    "    \n",
    "\n",
    "    return params, vals\n"
   ]
  },
  {
   "cell_type": "code",
   "execution_count": 3,
   "metadata": {},
   "outputs": [
    {
     "name": "stdout",
     "output_type": "stream",
     "text": [
      "{'s': 'stride', 'f': 'filter_count'}\n"
     ]
    }
   ],
   "source": [
    "print(fname_shorthand_dict)"
   ]
  },
  {
   "cell_type": "markdown",
   "metadata": {},
   "source": [
    "#### Loading Data from json files output by TensorFlow Profiler"
   ]
  },
  {
   "cell_type": "code",
   "execution_count": 4,
   "metadata": {},
   "outputs": [],
   "source": [
    "# Location of json files containing profile data\n",
    "data_base_path = \"collab_sample_data/\"\n",
    "\n",
    "# storing a dictionary of sample names to sample DataFrames\n",
    "# will eventually be used to extract meaningful data and create one big DataFrame\n",
    "sample_dfs = []\n",
    "\n",
    "# goes through every .json file in the data_base_path directory and turns it into a DataFrame\n",
    "# these DataFrames are then added into the sample_dfs dict for further processing\n",
    "for fname in os.listdir(data_base_path):\n",
    "    # appending the base path to the filename so it can be loaded by pandas\n",
    "    full_fname = data_base_path + fname\n",
    "    \n",
    "    # only read in json\n",
    "    if full_fname.endswith(\".json\"):\n",
    "        json_raw = pd.read_json(\n",
    "            path_or_buf = full_fname,\n",
    "            orient = \"records\"\n",
    "        )\n",
    "        \n",
    "        # TODO: change this script to using functions like map, flatmap, etc.\n",
    "        \n",
    "        # extract column names from first row of first col in loaded json\n",
    "        col_names = [json_raw.cols[0][i][\"id\"] for i in range(len(json_raw.cols[0]))]\n",
    "        \n",
    "        # split the single row loaded from the json into 1 array per row\n",
    "        rows = [json_raw.rows[0][i][\"c\"] for i in range(len(json_raw.rows[0]))]\n",
    "        # transform \"rows\" (current lists of dicts) into lists of values\n",
    "        rows = [[row[i][\"v\"] for i in range(len(row))] for row in rows]\n",
    "        #print(col_names)\n",
    "        #print(rows[0])\n",
    "        \n",
    "        # now that rows and columns have been extracted, turn them into a 'real' DataFrame\n",
    "        formatted_df = pd.DataFrame(data=rows, columns=col_names)\n",
    "        \n",
    "        # add the values for experimental parameters (e.g. strides, ) as new columns to our dataframe\n",
    "        params, vals = parse_sample_filename(re.sub(\".json\", \"\", fname))\n",
    "        \n",
    "        #print(params)\n",
    "        formatted_df[params] = pd.DataFrame([vals], index = formatted_df.index)\n",
    "        #print(formatted_df.head())\n",
    "        \n",
    "        # adding our new DataFrame to the sample_dfs dict with key = fname\n",
    "        # (sub to cut off the '.json' from the filename)\n",
    "        sample_dfs.append(formatted_df)"
   ]
  },
  {
   "cell_type": "code",
   "execution_count": 5,
   "metadata": {},
   "outputs": [],
   "source": [
    "# printing an example of what one of the sample dataframes should look like\n",
    "#sample_dfs[0].head()"
   ]
  },
  {
   "cell_type": "code",
   "execution_count": 6,
   "metadata": {
    "collapsed": true
   },
   "outputs": [],
   "source": [
    "# Combining sample D\n",
    "concat_df = pd.concat(sample_dfs)"
   ]
  },
  {
   "cell_type": "markdown",
   "metadata": {},
   "source": [
    "### Exploring the Data"
   ]
  },
  {
   "cell_type": "code",
   "execution_count": 7,
   "metadata": {},
   "outputs": [
    {
     "data": {
      "text/html": [
       "<div>\n",
       "<style scoped>\n",
       "    .dataframe tbody tr th:only-of-type {\n",
       "        vertical-align: middle;\n",
       "    }\n",
       "\n",
       "    .dataframe tbody tr th {\n",
       "        vertical-align: top;\n",
       "    }\n",
       "\n",
       "    .dataframe thead th {\n",
       "        text-align: right;\n",
       "    }\n",
       "</style>\n",
       "<table border=\"1\" class=\"dataframe\">\n",
       "  <thead>\n",
       "    <tr style=\"text-align: right;\">\n",
       "      <th></th>\n",
       "      <th>rank</th>\n",
       "      <th>kernel_name</th>\n",
       "      <th>registers_per_thread</th>\n",
       "      <th>shmem_bytes</th>\n",
       "      <th>block_dim</th>\n",
       "      <th>grid_dim</th>\n",
       "      <th>is_op_tensor_core_eligible</th>\n",
       "      <th>is_kernel_using_tensor_core</th>\n",
       "      <th>op_name</th>\n",
       "      <th>occurrences</th>\n",
       "      <th>total_duration_us</th>\n",
       "      <th>avg_duration_us</th>\n",
       "      <th>min_duration_us</th>\n",
       "      <th>max_duration_us</th>\n",
       "      <th>stride</th>\n",
       "      <th>filter_count</th>\n",
       "    </tr>\n",
       "  </thead>\n",
       "  <tbody>\n",
       "    <tr>\n",
       "      <th>0</th>\n",
       "      <td>1</td>\n",
       "      <td>maxwell_scudnn_128x32_relu_interior_nn</td>\n",
       "      <td>0</td>\n",
       "      <td>0</td>\n",
       "      <td>1,1,1</td>\n",
       "      <td>1,1,1</td>\n",
       "      <td>True</td>\n",
       "      <td>False</td>\n",
       "      <td>sequential_107/conv2d_109/Conv2D</td>\n",
       "      <td>1</td>\n",
       "      <td>10.079</td>\n",
       "      <td>10.079</td>\n",
       "      <td>10.079</td>\n",
       "      <td>10.079</td>\n",
       "      <td>5</td>\n",
       "      <td>1</td>\n",
       "    </tr>\n",
       "    <tr>\n",
       "      <th>1</th>\n",
       "      <td>2</td>\n",
       "      <td>maxwell_scudnn_128x32_stridedB_splitK_interior_nn</td>\n",
       "      <td>0</td>\n",
       "      <td>0</td>\n",
       "      <td>1,1,1</td>\n",
       "      <td>1,1,1</td>\n",
       "      <td>True</td>\n",
       "      <td>False</td>\n",
       "      <td>gradient_tape/sequential_107/conv2d_109/Conv2D...</td>\n",
       "      <td>1</td>\n",
       "      <td>9.824</td>\n",
       "      <td>9.824</td>\n",
       "      <td>9.824</td>\n",
       "      <td>9.824</td>\n",
       "      <td>5</td>\n",
       "      <td>1</td>\n",
       "    </tr>\n",
       "    <tr>\n",
       "      <th>2</th>\n",
       "      <td>3</td>\n",
       "      <td>void gemv2N_kernel&lt;int, int, float, float, flo...</td>\n",
       "      <td>0</td>\n",
       "      <td>0</td>\n",
       "      <td>1,1,1</td>\n",
       "      <td>1,1,1</td>\n",
       "      <td>False</td>\n",
       "      <td>False</td>\n",
       "      <td>gradient_tape/sequential_107/dense_106/Tensord...</td>\n",
       "      <td>1</td>\n",
       "      <td>4.864</td>\n",
       "      <td>4.864</td>\n",
       "      <td>4.864</td>\n",
       "      <td>4.864</td>\n",
       "      <td>5</td>\n",
       "      <td>1</td>\n",
       "    </tr>\n",
       "    <tr>\n",
       "      <th>3</th>\n",
       "      <td>4</td>\n",
       "      <td>void tensorflow::BiasGradNCHW_SharedAtomics&lt;fl...</td>\n",
       "      <td>0</td>\n",
       "      <td>0</td>\n",
       "      <td>1,1,1</td>\n",
       "      <td>1,1,1</td>\n",
       "      <td>False</td>\n",
       "      <td>False</td>\n",
       "      <td>gradient_tape/sequential_107/conv2d_109/BiasAd...</td>\n",
       "      <td>1</td>\n",
       "      <td>4.576</td>\n",
       "      <td>4.576</td>\n",
       "      <td>4.576</td>\n",
       "      <td>4.576</td>\n",
       "      <td>5</td>\n",
       "      <td>1</td>\n",
       "    </tr>\n",
       "    <tr>\n",
       "      <th>4</th>\n",
       "      <td>5</td>\n",
       "      <td>void tensorflow::BiasGradNCHW_SharedAtomics&lt;fl...</td>\n",
       "      <td>0</td>\n",
       "      <td>0</td>\n",
       "      <td>1,1,1</td>\n",
       "      <td>1,1,1</td>\n",
       "      <td>False</td>\n",
       "      <td>False</td>\n",
       "      <td>gradient_tape/sequential_107/dense_106/BiasAdd...</td>\n",
       "      <td>1</td>\n",
       "      <td>4.512</td>\n",
       "      <td>4.512</td>\n",
       "      <td>4.512</td>\n",
       "      <td>4.512</td>\n",
       "      <td>5</td>\n",
       "      <td>1</td>\n",
       "    </tr>\n",
       "  </tbody>\n",
       "</table>\n",
       "</div>"
      ],
      "text/plain": [
       "   rank                                        kernel_name  \\\n",
       "0     1             maxwell_scudnn_128x32_relu_interior_nn   \n",
       "1     2  maxwell_scudnn_128x32_stridedB_splitK_interior_nn   \n",
       "2     3  void gemv2N_kernel<int, int, float, float, flo...   \n",
       "3     4  void tensorflow::BiasGradNCHW_SharedAtomics<fl...   \n",
       "4     5  void tensorflow::BiasGradNCHW_SharedAtomics<fl...   \n",
       "\n",
       "   registers_per_thread  shmem_bytes block_dim grid_dim  \\\n",
       "0                     0            0     1,1,1    1,1,1   \n",
       "1                     0            0     1,1,1    1,1,1   \n",
       "2                     0            0     1,1,1    1,1,1   \n",
       "3                     0            0     1,1,1    1,1,1   \n",
       "4                     0            0     1,1,1    1,1,1   \n",
       "\n",
       "   is_op_tensor_core_eligible  is_kernel_using_tensor_core  \\\n",
       "0                        True                        False   \n",
       "1                        True                        False   \n",
       "2                       False                        False   \n",
       "3                       False                        False   \n",
       "4                       False                        False   \n",
       "\n",
       "                                             op_name  occurrences  \\\n",
       "0                   sequential_107/conv2d_109/Conv2D            1   \n",
       "1  gradient_tape/sequential_107/conv2d_109/Conv2D...            1   \n",
       "2  gradient_tape/sequential_107/dense_106/Tensord...            1   \n",
       "3  gradient_tape/sequential_107/conv2d_109/BiasAd...            1   \n",
       "4  gradient_tape/sequential_107/dense_106/BiasAdd...            1   \n",
       "\n",
       "   total_duration_us  avg_duration_us  min_duration_us  max_duration_us  \\\n",
       "0             10.079           10.079           10.079           10.079   \n",
       "1              9.824            9.824            9.824            9.824   \n",
       "2              4.864            4.864            4.864            4.864   \n",
       "3              4.576            4.576            4.576            4.576   \n",
       "4              4.512            4.512            4.512            4.512   \n",
       "\n",
       "  stride filter_count  \n",
       "0      5            1  \n",
       "1      5            1  \n",
       "2      5            1  \n",
       "3      5            1  \n",
       "4      5            1  "
      ]
     },
     "execution_count": 7,
     "metadata": {},
     "output_type": "execute_result"
    }
   ],
   "source": [
    "# printing the schema of our combined DataFrame\n",
    "concat_df.head()"
   ]
  },
  {
   "cell_type": "code",
   "execution_count": 8,
   "metadata": {},
   "outputs": [
    {
     "name": "stdout",
     "output_type": "stream",
     "text": [
      "DataFrame Shape:  (428, 16)\n",
      "Columns:  Index(['rank', 'kernel_name', 'registers_per_thread', 'shmem_bytes',\n",
      "       'block_dim', 'grid_dim', 'is_op_tensor_core_eligible',\n",
      "       'is_kernel_using_tensor_core', 'op_name', 'occurrences',\n",
      "       'total_duration_us', 'avg_duration_us', 'min_duration_us',\n",
      "       'max_duration_us', 'stride', 'filter_count'],\n",
      "      dtype='object')\n"
     ]
    }
   ],
   "source": [
    "print(\"DataFrame Shape: \",  concat_df.shape)\n",
    "print(\"Columns: \", concat_df.columns)"
   ]
  },
  {
   "cell_type": "code",
   "execution_count": 9,
   "metadata": {},
   "outputs": [],
   "source": [
    "# Filtering out some of the calls less useful to our visualization\n",
    "filtered_cols = concat_df[[\"kernel_name\", \"op_name\", \"total_duration_us\", \"stride\", \"filter_count\"]]"
   ]
  },
  {
   "cell_type": "code",
   "execution_count": 10,
   "metadata": {},
   "outputs": [
    {
     "data": {
      "image/png": "[encoded data removed]",
      "text/plain": [
       "<matplotlib.figure.Figure at 0x162ac757048>"
      ]
     },
     "metadata": {},
     "output_type": "display_data"
    }
   ],
   "source": [
    "total_exec_time = filtered_cols.groupby(by=[\"filter_count\"]).sum().sort_index()\n",
    "#print(total_exec_time)\n",
    "\n",
    "# configuring a plot of the total execution time by filter size\n",
    "total_exec_time.plot()\n",
    "\n",
    "plt.title(\"Filter Count vs. Total Execution TIme for 1-layer ConvNet\")\n",
    "plt.ylim(100, 160)\n",
    "\n",
    "plt.show()"
   ]
  },
  {
   "cell_type": "markdown",
   "metadata": {},
   "source": [
    "### Filtering out information about kernels other than Conv2D"
   ]
  },
  {
   "cell_type": "code",
   "execution_count": 11,
   "metadata": {},
   "outputs": [],
   "source": [
    "\n",
    "conv2D_kernel_info = filtered_cols[filtered_cols[\"op_name\"].str.endswith(\"Conv2D\")]"
   ]
  },
  {
   "cell_type": "markdown",
   "metadata": {},
   "source": [
    "### Looking at Different Convolution Parameters"
   ]
  },
  {
   "cell_type": "code",
   "execution_count": null,
   "metadata": {},
   "outputs": [],
   "source": []
  },
  {
   "cell_type": "code",
   "execution_count": 12,
   "metadata": {},
   "outputs": [
    {
     "data": {
      "image/png": "[encoded data removed]",
      "text/plain": [
       "<matplotlib.figure.Figure at 0x162ae8b82e8>"
      ]
     },
     "metadata": {},
     "output_type": "display_data"
    }
   ],
   "source": [
    "conv2D_kernel_info = conv2D_kernel_info.groupby(by=[\"filter_count\"]).sum().sort_index()\n",
    "\n",
    "\n",
    "conv2D_kernel_info.plot()\n",
    "plt.title(\"Filter Count vs. Convolution Execution Time for 1-layer ConvNet\")\n",
    "plt.ylim(0, 17)\n",
    "plt.xlim(0, 12)\n",
    "plt.show()"
   ]
  },
  {
   "cell_type": "code",
   "execution_count": null,
   "metadata": {
    "collapsed": true
   },
   "outputs": [],
   "source": []
  }
 ],
 "metadata": {
  "kernelspec": {
   "display_name": "Python 3",
   "language": "python",
   "name": "python3"
  },
  "language_info": {
   "codemirror_mode": {
    "name": "ipython",
    "version": 3
   },
   "file_extension": ".py",
   "mimetype": "text/x-python",
   "name": "python",
   "nbconvert_exporter": "python",
   "pygments_lexer": "ipython3",
   "version": "3.6.1"
  }
 },
 "nbformat": 4,
 "nbformat_minor": 2
}
