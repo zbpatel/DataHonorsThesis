{
 "cells": [
  {
   "cell_type": "markdown",
   "metadata": {},
   "source": [
    "## Data Analysis\n",
    "\n",
    "After running the epa script and saving the cleaned data to disk, it is ready to be analyzed. This notebook contains a variety of visualizations and tables to help get a better understanding of the data"
   ]
  },
  {
   "cell_type": "code",
   "execution_count": 1,
   "metadata": {
    "collapsed": true
   },
   "outputs": [],
   "source": [
    "import numpy as np\n",
    "import pandas as pd\n",
    "import matplotlib.pyplot as plt\n",
    "from mpl_toolkits.mplot3d import Axes3D\n",
    "import os\n",
    "import re"
   ]
  },
  {
   "cell_type": "markdown",
   "metadata": {},
   "source": [
    "### Restore the Saved Data from Disk"
   ]
  },
  {
   "cell_type": "code",
   "execution_count": 9,
   "metadata": {},
   "outputs": [
    {
     "name": "stdout",
     "output_type": "stream",
     "text": [
      "Kernels DF shape:  (4337, 9)\n",
      "Layers DF shape:  (1380, 5)\n"
     ]
    }
   ],
   "source": [
    "# the default location eda_notebook saves \n",
    "data_location = \"../../data/\"\n",
    "conv2d_kernels = pd.read_csv(filepath_or_buffer = (data_location + \"conv2d_kernels.csv\"), index_col=\"op_name\")\n",
    "conv2d_layers = pd.read_csv(filepath_or_buffer = (data_location + \"conv2d_layers.csv\"), index_col=\"op_name\")\n",
    "\n",
    "# visual check that the data was loaded properly\n",
    "print(\"Kernels DF shape: \", conv2d_kernels.shape)\n",
    "print(\"Layers DF shape: \", conv2d_layers.shape)"
   ]
  },
  {
   "cell_type": "markdown",
   "metadata": {},
   "source": [
    "### Visualizing the Data "
   ]
  },
  {
   "cell_type": "code",
   "execution_count": null,
   "metadata": {
    "collapsed": true
   },
   "outputs": [],
   "source": []
  },
  {
   "cell_type": "code",
   "execution_count": null,
   "metadata": {
    "collapsed": true
   },
   "outputs": [],
   "source": []
  },
  {
   "cell_type": "code",
   "execution_count": null,
   "metadata": {
    "collapsed": true
   },
   "outputs": [],
   "source": []
  },
  {
   "cell_type": "code",
   "execution_count": null,
   "metadata": {
    "collapsed": true
   },
   "outputs": [],
   "source": []
  },
  {
   "cell_type": "code",
   "execution_count": null,
   "metadata": {
    "collapsed": true
   },
   "outputs": [],
   "source": []
  },
  {
   "cell_type": "code",
   "execution_count": null,
   "metadata": {
    "collapsed": true
   },
   "outputs": [],
   "source": []
  },
  {
   "cell_type": "code",
   "execution_count": null,
   "metadata": {
    "collapsed": true
   },
   "outputs": [],
   "source": []
  },
  {
   "cell_type": "code",
   "execution_count": null,
   "metadata": {
    "collapsed": true
   },
   "outputs": [],
   "source": []
  },
  {
   "cell_type": "code",
   "execution_count": null,
   "metadata": {
    "collapsed": true
   },
   "outputs": [],
   "source": []
  },
  {
   "cell_type": "code",
   "execution_count": null,
   "metadata": {
    "collapsed": true
   },
   "outputs": [],
   "source": [
    "conv2D_kinfo_s1k1 = conv2D_kinfo.where((conv2D_kinfo[\"stride_length\"] == 1) & (conv2D_kinfo[\"kernel_size\"] == 1))\n",
    "conv2D_kinfo_s1k1.plot.scatter(x=\"filter_count\",\n",
    "                               y=\"batch_size\",\n",
    "                               c=\"total_duration_us\",\n",
    "                               colormap='viridis')\n",
    "plt.title(\"Filter Count vs. Convolution Execution Time for 1-layer ConvNet\")\n",
    "#plt.ylim(0, 100)\n",
    "#plt.xlim(0, 322)\n",
    "plt.show()"
   ]
  },
  {
   "cell_type": "code",
   "execution_count": null,
   "metadata": {
    "collapsed": true
   },
   "outputs": [],
   "source": [
    "conv2D_k3 = conv2D_kinfo[(conv2D_kinfo[\"kernel_size\"] == 3) & (conv2D_kinfo[\"filter_count\"] < 6)& (conv2D_kinfo[\"stride_length\"] <4)]\n",
    "conv2D_k3"
   ]
  },
  {
   "cell_type": "code",
   "execution_count": null,
   "metadata": {
    "collapsed": true
   },
   "outputs": [],
   "source": [
    "fig = plt.figure()\n",
    "ax = plt.axes(projection=\"3d\")\n",
    "\n",
    "ax.scatter(xs=conv2D_k3[\"stride_length\"], \n",
    "           ys=conv2D_k3[\"filter_count\"], \n",
    "           zs=conv2D_k3[\"batch_size\"],\n",
    "           c=conv2D_k3[\"total_duration_us\"],\n",
    "           cmap='viridis')\n",
    "\n",
    "ax.set_xlabel('Stride Length')\n",
    "ax.set_xticks(np.arange(1, 4, 1))\n",
    "ax.set_ylabel('Filter Count')\n",
    "ax.set_yticks(np.arange(1, 11, 1))\n",
    "ax.set_zlabel('Batch Size')\n",
    "\n",
    "plt.show()"
   ]
  },
  {
   "cell_type": "code",
   "execution_count": null,
   "metadata": {
    "collapsed": true
   },
   "outputs": [],
   "source": [
    "conv2D_k3_b64 = conv2D_k3.where((conv2D_k3[\"batch_size\"] == 310))\n",
    "conv2D_k3_b64.head()"
   ]
  },
  {
   "cell_type": "code",
   "execution_count": null,
   "metadata": {
    "collapsed": true
   },
   "outputs": [],
   "source": [
    "fig = plt.figure()\n",
    "ax = plt.axes(projection=\"3d\")\n",
    "\n",
    "ax.plot_wireframe(X=conv2D_k3_b64[\"stride_length\"], \n",
    "           Y=conv2D_k3_b64[\"filter_count\"], \n",
    "           Z=conv2D_k3_b64[\"total_duration_us\"],\n",
    "           cmap='viridis')\n",
    "\n",
    "ax.set_xlabel('Stride Length')\n",
    "ax.set_xticks(np.arange(1, 4, 1))\n",
    "ax.set_ylabel('Filter Count')\n",
    "ax.set_yticks(np.arange(1, 11, 1))\n",
    "ax.set_zlabel('Total Run Duration')\n",
    "\n",
    "plt.show()"
   ]
  }
 ],
 "metadata": {
  "kernelspec": {
   "display_name": "Python 3",
   "language": "python",
   "name": "python3"
  },
  "language_info": {
   "codemirror_mode": {
    "name": "ipython",
    "version": 3
   },
   "file_extension": ".py",
   "mimetype": "text/x-python",
   "name": "python",
   "nbconvert_exporter": "python",
   "pygments_lexer": "ipython3",
   "version": "3.6.1"
  }
 },
 "nbformat": 4,
 "nbformat_minor": 2
}
